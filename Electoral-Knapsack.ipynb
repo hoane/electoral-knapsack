{
 "cells": [
  {
   "cell_type": "code",
   "execution_count": 1,
   "metadata": {},
   "outputs": [],
   "source": [
    "import numpy as np\n",
    "import pandas as pd\n",
    "import qgrid\n",
    "from ipywidgets import interact, interactive, interact_manual\n",
    "import ipywidgets as widgets\n",
    "from IPython.display import display"
   ]
  },
  {
   "cell_type": "code",
   "execution_count": 2,
   "metadata": {},
   "outputs": [],
   "source": [
    "def minCostToThreshold(data, threshold):\n",
    "    memo = {}\n",
    "\n",
    "    def minCostFrom(index, remaining):\n",
    "        if (index, remaining) in memo:\n",
    "            return memo[(index, remaining)]\n",
    "\n",
    "        if remaining <= 0:\n",
    "            # Base case: no threshold remaining, succeed at zero cost with no contributing items\"\n",
    "            return (0, [])\n",
    "        \n",
    "        if index == len(data):\n",
    "            # Base case: positive threshold and no items remaining, fail\"\n",
    "            return None\n",
    "        \n",
    "        item = data.iloc[index, :]\n",
    "        _withItem = minCostFrom(index + 1, remaining - item.at['EV'])\n",
    "        withItem = None if _withItem == None else (_withItem[0] + abs(item['Margin']), _withItem[1] + [index])\n",
    "        withoutItem = minCostFrom(index + 1, remaining)\n",
    "        ret = withItem if withoutItem == None or (withItem != None and withItem[0] < withoutItem[0]) else withoutItem\n",
    "\n",
    "        memo[(index, remaining)] = ret\n",
    "        return ret\n",
    "    \n",
    "    return minCostFrom(0, threshold)\n",
    "\n",
    "def minVotesToElectoralMargin(stateData, evMargin):\n",
    "    if evMargin == 0:\n",
    "        return 0 # No margin\n",
    "    elif any((stateData == 0).values.flatten()):\n",
    "        raise \"All inputs must be non-zero\"\n",
    "    elif evMargin > 0:\n",
    "        flippableStates = stateData['Margin'] > 0\n",
    "    elif evMargin < 0:\n",
    "        flippableStates = stateData['Margin'] < 0\n",
    "    \n",
    "    flippableView = stateData[flippableStates]\n",
    "    result = minCostToThreshold(flippableView, abs(evMargin))\n",
    "    if result == None:\n",
    "        return None\n",
    "    else:\n",
    "        votes, indicies = result\n",
    "        return (votes, flippableView.iloc[indicies, :])"
   ]
  },
  {
   "cell_type": "code",
   "execution_count": 3,
   "metadata": {},
   "outputs": [
    {
     "data": {
      "application/vnd.jupyter.widget-view+json": {
       "model_id": "4c7333f71c404a3abddca5199bc91d19",
       "version_major": 2,
       "version_minor": 0
      },
      "text/plain": [
       "QgridWidget(grid_options={'fullWidthRows': True, 'syncColumnCellResize': True, 'forceFitColumns': True, 'defau…"
      ]
     },
     "metadata": {},
     "output_type": "display_data"
    },
    {
     "data": {
      "application/vnd.jupyter.widget-view+json": {
       "model_id": "06142f4c22c24e27ae9195a2b4f73b0c",
       "version_major": 2,
       "version_minor": 0
      },
      "text/plain": [
       "IntText(value=38, description='EV Margin')"
      ]
     },
     "metadata": {},
     "output_type": "display_data"
    },
    {
     "data": {
      "application/vnd.jupyter.widget-view+json": {
       "model_id": "f93b344ec79b4a05b09f133824f660ee",
       "version_major": 2,
       "version_minor": 0
      },
      "text/plain": [
       "Button(description='Calculate', style=ButtonStyle())"
      ]
     },
     "metadata": {},
     "output_type": "display_data"
    },
    {
     "data": {
      "application/vnd.jupyter.widget-view+json": {
       "model_id": "a6c1a4c71d4b49aeb0aaa3dc44d6bd21",
       "version_major": 2,
       "version_minor": 0
      },
      "text/plain": [
       "Output()"
      ]
     },
     "metadata": {},
     "output_type": "display_data"
    }
   ],
   "source": [
    "stateData2016 = [\n",
    "    ( 9,   588708, 'Ala'),\n",
    "    ( 3,    46933, 'Alaska'),\n",
    "    (11,    91234, 'Ariz.'),\n",
    "    ( 6,   304378, 'Ark.'),\n",
    "    (55, -4269978, 'Calif.'),\n",
    "    ( 9,  -136386, 'Colo.'),\n",
    "    ( 7,  -224357, 'Conn.'),\n",
    "    ( 3,   -50476, 'Del.'),\n",
    "    ( 3,  -270107, 'D.C'),\n",
    "    (29,   112911, 'Fla.'),\n",
    "    (16,   211141, 'Ga.'),\n",
    "    ( 4,  -138044, 'Hawaii'),\n",
    "    ( 4,   219290, 'Idaho'),\n",
    "    (20,  -944714, 'Ill.'),\n",
    "    (11,   524160, 'Ind.'),\n",
    "    ( 6,   147314, 'Iowa'),\n",
    "    ( 6,   244013, 'Kan.'),\n",
    "    ( 8,   574177, 'Ky.'),\n",
    "    ( 8,   398484, 'La.'),\n",
    "    ( 2,   -22142, 'Maine'),\n",
    "    ( 1,   -58390, 'ME-1'),\n",
    "    ( 1,    36360, 'ME-2'),\n",
    "    (10,  -734759, 'Md.'),\n",
    "    (11,  -904303, 'Mass.'),\n",
    "    (16,    10704, 'Mich.'),\n",
    "    (10,   -44765, 'Minnesota'),\n",
    "    ( 6,   215583, 'Mississippi'),\n",
    "    (10,   523443, 'Missouri'),\n",
    "    ( 3,   101531, 'Montana'),\n",
    "    ( 2,   211467, 'Nebr.'),\n",
    "    ( 1,    58500, 'NE-1'),\n",
    "    ( 1,     6534, 'NE-2'),\n",
    "    ( 1,   146367, 'NE-3'),\n",
    "    ( 6,   -27202, 'Nev.'),\n",
    "    ( 4,    -2736, 'N.H.'),\n",
    "    (14,  -546345, 'N.J.'),\n",
    "    ( 5,   -65567, 'N.M.'),\n",
    "    (29, -1736590, 'N.Y.'),\n",
    "    (15,   173315, 'N.C.'),\n",
    "    ( 3,   123036, 'N.D.'),\n",
    "    (18,   446841, 'Ohio'),\n",
    "    ( 7,   528761, 'Okla.'),\n",
    "    ( 7,  -219703, 'Ore.'),\n",
    "    (20,    44292, 'Pa.'),\n",
    "    ( 4,   -71982, 'R.I.'),\n",
    "    ( 9,   300016, 'S.C.'),\n",
    "    ( 3,   110263, 'S.D.'),\n",
    "    (11,   652230, 'Tenn.'),\n",
    "    (38,   807179, 'Texas'),\n",
    "    ( 6,   204555, 'Utah'),\n",
    "    ( 3,   -83204, 'Vt.'),\n",
    "    (13,  -212030, 'Va.'),\n",
    "    (12,  -520971, 'Wash.'),\n",
    "    ( 5,   300577, 'W.Va.'),\n",
    "    (10,    22748, 'Wis.'),\n",
    "    ( 3,   118446, 'Wyo.'),\n",
    "]\n",
    "evMargin2016 = 38\n",
    "\n",
    "dframe2016 = pd.DataFrame(stateData2016, columns=['EV', 'Margin', 'State'])\n",
    "qgrid_widget = qgrid.show_grid(dframe2016, show_toolbar=True)\n",
    "display(qgrid_widget)\n",
    "\n",
    "marginWidget = widgets.IntText(\n",
    "    value=evMargin2016,\n",
    "    description='EV Margin',\n",
    "    disabled=False\n",
    ")\n",
    "display(marginWidget)\n",
    "\n",
    "button = widgets.Button(description=\"Calculate\")\n",
    "output = widgets.Output()\n",
    "\n",
    "display(button, output)\n",
    "\n",
    "def on_button_clicked(b):\n",
    "    with output:\n",
    "        df = qgrid_widget.get_changed_df()\n",
    "        votes, states = minVotesToElectoralMargin(df, marginWidget.value)\n",
    "        result = states.copy()\n",
    "        result.loc['Total'] = [sum(result['EV']), sum(result['Margin']), '-']\n",
    "        display(widgets.Label(value=f'Minimum votes to flip election: {votes}'))\n",
    "        display(qgrid.show_grid(result, show_toolbar=True))\n",
    "    \n",
    "\n",
    "button.on_click(on_button_clicked)\n"
   ]
  }
 ],
 "metadata": {
  "kernelspec": {
   "display_name": "Python 3",
   "language": "python",
   "name": "python3"
  },
  "language_info": {
   "codemirror_mode": {
    "name": "ipython",
    "version": 3
   },
   "file_extension": ".py",
   "mimetype": "text/x-python",
   "name": "python",
   "nbconvert_exporter": "python",
   "pygments_lexer": "ipython3",
   "version": "3.8.3"
  }
 },
 "nbformat": 4,
 "nbformat_minor": 4
}
